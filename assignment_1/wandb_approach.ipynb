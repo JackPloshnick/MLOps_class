{
 "cells": [
  {
   "cell_type": "markdown",
   "metadata": {},
   "source": [
    "# Setup"
   ]
  },
  {
   "cell_type": "code",
   "execution_count": 10,
   "metadata": {},
   "outputs": [],
   "source": [
    "import pandas as pd\n",
    "import numpy as np\n",
    "import os\n"
   ]
  },
  {
   "cell_type": "code",
   "execution_count": 11,
   "metadata": {},
   "outputs": [],
   "source": [
    "version_1_path = local_path = os.path.expanduser('~/Documents/UChicago_MADS/general_datasets/athletes.csv')"
   ]
  },
  {
   "cell_type": "markdown",
   "metadata": {},
   "source": [
    "# Weights and Baises"
   ]
  },
  {
   "cell_type": "code",
   "execution_count": null,
   "metadata": {},
   "outputs": [],
   "source": [
    "# go to https://wandb.ai/authorize?ref=models to get your API key"
   ]
  },
  {
   "cell_type": "code",
   "execution_count": 5,
   "metadata": {},
   "outputs": [],
   "source": [
    "import wandb\n"
   ]
  },
  {
   "cell_type": "code",
   "execution_count": 7,
   "metadata": {},
   "outputs": [
    {
     "data": {
      "text/html": [],
      "text/plain": [
       "<IPython.core.display.HTML object>"
      ]
     },
     "metadata": {},
     "output_type": "display_data"
    },
    {
     "data": {
      "text/html": [
       "Tracking run with wandb version 0.22.2"
      ],
      "text/plain": [
       "<IPython.core.display.HTML object>"
      ]
     },
     "metadata": {},
     "output_type": "display_data"
    },
    {
     "data": {
      "text/html": [
       "Run data is saved locally in <code>/Users/jackploshnick/Documents/MLOps_class/assignment_1/wandb/run-20251015_203936-s0qh9ufg</code>"
      ],
      "text/plain": [
       "<IPython.core.display.HTML object>"
      ]
     },
     "metadata": {},
     "output_type": "display_data"
    },
    {
     "data": {
      "text/html": [
       "Syncing run <strong><a href='https://wandb.ai/jploshnick-university-of-chicago/my_project/runs/s0qh9ufg' target=\"_blank\">wobbly-music-1</a></strong> to <a href='https://wandb.ai/jploshnick-university-of-chicago/my_project' target=\"_blank\">Weights & Biases</a> (<a href='https://wandb.me/developer-guide' target=\"_blank\">docs</a>)<br>"
      ],
      "text/plain": [
       "<IPython.core.display.HTML object>"
      ]
     },
     "metadata": {},
     "output_type": "display_data"
    },
    {
     "data": {
      "text/html": [
       " View project at <a href='https://wandb.ai/jploshnick-university-of-chicago/my_project' target=\"_blank\">https://wandb.ai/jploshnick-university-of-chicago/my_project</a>"
      ],
      "text/plain": [
       "<IPython.core.display.HTML object>"
      ]
     },
     "metadata": {},
     "output_type": "display_data"
    },
    {
     "data": {
      "text/html": [
       " View run at <a href='https://wandb.ai/jploshnick-university-of-chicago/my_project/runs/s0qh9ufg' target=\"_blank\">https://wandb.ai/jploshnick-university-of-chicago/my_project/runs/s0qh9ufg</a>"
      ],
      "text/plain": [
       "<IPython.core.display.HTML object>"
      ]
     },
     "metadata": {},
     "output_type": "display_data"
    },
    {
     "data": {
      "text/html": [
       "<button onClick=\"this.nextSibling.style.display='block';this.style.display='none';\">Display W&B run</button><iframe src='https://wandb.ai/jploshnick-university-of-chicago/my_project/runs/s0qh9ufg?jupyter=true' style='border:none;width:100%;height:420px;display:none;'></iframe>"
      ],
      "text/plain": [
       "<wandb.sdk.wandb_run.Run at 0x11ae5dfa0>"
      ]
     },
     "execution_count": 7,
     "metadata": {},
     "output_type": "execute_result"
    }
   ],
   "source": [
    "wandb.init(project=\"my_project\", entity=\"jploshnick-university-of-chicago\")"
   ]
  },
  {
   "cell_type": "code",
   "execution_count": 8,
   "metadata": {},
   "outputs": [
    {
     "data": {
      "text/html": [],
      "text/plain": [
       "<IPython.core.display.HTML object>"
      ]
     },
     "metadata": {},
     "output_type": "display_data"
    },
    {
     "data": {
      "text/html": [
       " View run <strong style=\"color:#cdcd00\">wobbly-music-1</strong> at: <a href='https://wandb.ai/jploshnick-university-of-chicago/my_project/runs/s0qh9ufg' target=\"_blank\">https://wandb.ai/jploshnick-university-of-chicago/my_project/runs/s0qh9ufg</a><br> View project at: <a href='https://wandb.ai/jploshnick-university-of-chicago/my_project' target=\"_blank\">https://wandb.ai/jploshnick-university-of-chicago/my_project</a><br>Synced 5 W&B file(s), 0 media file(s), 2 artifact file(s) and 0 other file(s)"
      ],
      "text/plain": [
       "<IPython.core.display.HTML object>"
      ]
     },
     "metadata": {},
     "output_type": "display_data"
    },
    {
     "data": {
      "text/html": [
       "Find logs at: <code>./wandb/run-20251015_203936-s0qh9ufg/logs</code>"
      ],
      "text/plain": [
       "<IPython.core.display.HTML object>"
      ]
     },
     "metadata": {},
     "output_type": "display_data"
    }
   ],
   "source": [
    "# Create a dataset artifact\n",
    "dataset_artifact = wandb.Artifact(\n",
    "    name=\"my_dataset\",\n",
    "    type=\"dataset\",\n",
    "    description=\"Initial version of the dataset\"\n",
    ")\n",
    "\n",
    "# Add files\n",
    "dataset_artifact.add_file(\"/Users/jackploshnick/Documents/UChicago_MADS/general_datasets/athletes.csv\")\n",
    "\n",
    "# Log the artifact\n",
    "wandb.log_artifact(dataset_artifact)\n",
    "\n",
    "# Finish the run\n",
    "wandb.finish()\n"
   ]
  },
  {
   "cell_type": "markdown",
   "metadata": {},
   "source": [
    "## update the dataet, make a new commit"
   ]
  },
  {
   "cell_type": "code",
   "execution_count": 12,
   "metadata": {},
   "outputs": [],
   "source": [
    "data = pd.read_csv(version_1_path)\n",
    "\n",
    "# Remove not relevant columns\n",
    "data = data.dropna(subset=['region','age','weight','height','howlong','gender','eat', \\\n",
    "                            'train','background','experience','schedule','howlong', \\\n",
    "                            'deadlift','candj','snatch','backsq','experience',\\\n",
    "                            'background','schedule','howlong'])\n",
    "data = data.drop(columns=['affiliate','team','name','athlete_id','fran','helen','grace',\\\n",
    "                            'filthy50','fgonebad','run400','run5k','pullups','train'])\n",
    "\n",
    "# Remove Outliers\n",
    "\n",
    "data = data[data['weight'] < 1500]\n",
    "data = data[data['gender'] != '--']\n",
    "data = data[data['age'] >= 18]\n",
    "data = data[(data['height'] < 96) & (data['height'] > 48)]\n",
    "\n",
    "data = data[(data['deadlift'] > 0) & (data['deadlift'] <= 1105)|((data['gender'] == 'Female') \\\n",
    "                & (data['deadlift'] <= 636))]\n",
    "data = data[(data['candj'] > 0) & (data['candj'] <= 395)]\n",
    "data = data[(data['snatch'] > 0) & (data['snatch'] <= 496)]\n",
    "data = data[(data['backsq'] > 0) & (data['backsq'] <= 1069)]\n",
    "\n",
    "# Clean Survey Data\n",
    "\n",
    "decline_dict = {'Decline to answer|': np.nan}\n",
    "data = data.replace(decline_dict)\n",
    "data = data.dropna(subset=['background','experience','schedule','howlong','eat'])\n",
    "\n",
    "data.to_csv('/Users/jackploshnick/Documents/UChicago_MADS/general_datasets/athletes_v2.csv', index=False)\n",
    "\n"
   ]
  },
  {
   "cell_type": "code",
   "execution_count": 14,
   "metadata": {},
   "outputs": [
    {
     "data": {
      "text/html": [],
      "text/plain": [
       "<IPython.core.display.HTML object>"
      ]
     },
     "metadata": {},
     "output_type": "display_data"
    },
    {
     "data": {
      "text/html": [
       "Tracking run with wandb version 0.22.2"
      ],
      "text/plain": [
       "<IPython.core.display.HTML object>"
      ]
     },
     "metadata": {},
     "output_type": "display_data"
    },
    {
     "data": {
      "text/html": [
       "Run data is saved locally in <code>/Users/jackploshnick/Documents/MLOps_class/assignment_1/wandb/run-20251015_204118-oo95zoic</code>"
      ],
      "text/plain": [
       "<IPython.core.display.HTML object>"
      ]
     },
     "metadata": {},
     "output_type": "display_data"
    },
    {
     "data": {
      "text/html": [
       "Syncing run <strong><a href='https://wandb.ai/jploshnick-university-of-chicago/my_project/runs/oo95zoic' target=\"_blank\">logical-spaceship-2</a></strong> to <a href='https://wandb.ai/jploshnick-university-of-chicago/my_project' target=\"_blank\">Weights & Biases</a> (<a href='https://wandb.me/developer-guide' target=\"_blank\">docs</a>)<br>"
      ],
      "text/plain": [
       "<IPython.core.display.HTML object>"
      ]
     },
     "metadata": {},
     "output_type": "display_data"
    },
    {
     "data": {
      "text/html": [
       " View project at <a href='https://wandb.ai/jploshnick-university-of-chicago/my_project' target=\"_blank\">https://wandb.ai/jploshnick-university-of-chicago/my_project</a>"
      ],
      "text/plain": [
       "<IPython.core.display.HTML object>"
      ]
     },
     "metadata": {},
     "output_type": "display_data"
    },
    {
     "data": {
      "text/html": [
       " View run at <a href='https://wandb.ai/jploshnick-university-of-chicago/my_project/runs/oo95zoic' target=\"_blank\">https://wandb.ai/jploshnick-university-of-chicago/my_project/runs/oo95zoic</a>"
      ],
      "text/plain": [
       "<IPython.core.display.HTML object>"
      ]
     },
     "metadata": {},
     "output_type": "display_data"
    },
    {
     "data": {
      "text/html": [],
      "text/plain": [
       "<IPython.core.display.HTML object>"
      ]
     },
     "metadata": {},
     "output_type": "display_data"
    },
    {
     "data": {
      "text/html": [
       " View run <strong style=\"color:#cdcd00\">logical-spaceship-2</strong> at: <a href='https://wandb.ai/jploshnick-university-of-chicago/my_project/runs/oo95zoic' target=\"_blank\">https://wandb.ai/jploshnick-university-of-chicago/my_project/runs/oo95zoic</a><br> View project at: <a href='https://wandb.ai/jploshnick-university-of-chicago/my_project' target=\"_blank\">https://wandb.ai/jploshnick-university-of-chicago/my_project</a><br>Synced 5 W&B file(s), 0 media file(s), 2 artifact file(s) and 0 other file(s)"
      ],
      "text/plain": [
       "<IPython.core.display.HTML object>"
      ]
     },
     "metadata": {},
     "output_type": "display_data"
    },
    {
     "data": {
      "text/html": [
       "Find logs at: <code>./wandb/run-20251015_204118-oo95zoic/logs</code>"
      ],
      "text/plain": [
       "<IPython.core.display.HTML object>"
      ]
     },
     "metadata": {},
     "output_type": "display_data"
    }
   ],
   "source": [
    "wandb.init(project=\"my_project\", entity=\"jploshnick-university-of-chicago\")\n",
    "\n",
    "# Create a dataset artifact\n",
    "dataset_artifact = wandb.Artifact(\n",
    "    name=\"my_dataset_v2\",\n",
    "    type=\"dataset\",\n",
    "    description=\"Second version of the dataset\"\n",
    ")\n",
    "\n",
    "# Add files\n",
    "dataset_artifact.add_file(\"/Users/jackploshnick/Documents/UChicago_MADS/general_datasets/athletes_v2.csv\")\n",
    "\n",
    "# Log the artifact\n",
    "wandb.log_artifact(dataset_artifact)\n",
    "\n",
    "# Finish the run\n",
    "wandb.finish()\n"
   ]
  },
  {
   "cell_type": "markdown",
   "metadata": {},
   "source": [
    "## Get version 1, do eda, run model"
   ]
  },
  {
   "cell_type": "code",
   "execution_count": 26,
   "metadata": {},
   "outputs": [
    {
     "data": {
      "text/html": [
       "Finishing previous runs because reinit is set to 'default'."
      ],
      "text/plain": [
       "<IPython.core.display.HTML object>"
      ]
     },
     "metadata": {},
     "output_type": "display_data"
    },
    {
     "data": {
      "text/html": [],
      "text/plain": [
       "<IPython.core.display.HTML object>"
      ]
     },
     "metadata": {},
     "output_type": "display_data"
    },
    {
     "data": {
      "text/html": [
       " View run <strong style=\"color:#cdcd00\">devoted-jazz-9</strong> at: <a href='https://wandb.ai/jploshnick-university-of-chicago/my_project/runs/kur0vfgm' target=\"_blank\">https://wandb.ai/jploshnick-university-of-chicago/my_project/runs/kur0vfgm</a><br> View project at: <a href='https://wandb.ai/jploshnick-university-of-chicago/my_project' target=\"_blank\">https://wandb.ai/jploshnick-university-of-chicago/my_project</a><br>Synced 5 W&B file(s), 0 media file(s), 0 artifact file(s) and 0 other file(s)"
      ],
      "text/plain": [
       "<IPython.core.display.HTML object>"
      ]
     },
     "metadata": {},
     "output_type": "display_data"
    },
    {
     "data": {
      "text/html": [
       "Find logs at: <code>./wandb/run-20251015_204503-kur0vfgm/logs</code>"
      ],
      "text/plain": [
       "<IPython.core.display.HTML object>"
      ]
     },
     "metadata": {},
     "output_type": "display_data"
    },
    {
     "data": {
      "text/html": [],
      "text/plain": [
       "<IPython.core.display.HTML object>"
      ]
     },
     "metadata": {},
     "output_type": "display_data"
    },
    {
     "data": {
      "text/html": [
       "Tracking run with wandb version 0.22.2"
      ],
      "text/plain": [
       "<IPython.core.display.HTML object>"
      ]
     },
     "metadata": {},
     "output_type": "display_data"
    },
    {
     "data": {
      "text/html": [
       "Run data is saved locally in <code>/Users/jackploshnick/Documents/MLOps_class/assignment_1/wandb/run-20251015_204522-ebiu5qmb</code>"
      ],
      "text/plain": [
       "<IPython.core.display.HTML object>"
      ]
     },
     "metadata": {},
     "output_type": "display_data"
    },
    {
     "data": {
      "text/html": [
       "Syncing run <strong><a href='https://wandb.ai/jploshnick-university-of-chicago/my_project/runs/ebiu5qmb' target=\"_blank\">charmed-flower-10</a></strong> to <a href='https://wandb.ai/jploshnick-university-of-chicago/my_project' target=\"_blank\">Weights & Biases</a> (<a href='https://wandb.me/developer-guide' target=\"_blank\">docs</a>)<br>"
      ],
      "text/plain": [
       "<IPython.core.display.HTML object>"
      ]
     },
     "metadata": {},
     "output_type": "display_data"
    },
    {
     "data": {
      "text/html": [
       " View project at <a href='https://wandb.ai/jploshnick-university-of-chicago/my_project' target=\"_blank\">https://wandb.ai/jploshnick-university-of-chicago/my_project</a>"
      ],
      "text/plain": [
       "<IPython.core.display.HTML object>"
      ]
     },
     "metadata": {},
     "output_type": "display_data"
    },
    {
     "data": {
      "text/html": [
       " View run at <a href='https://wandb.ai/jploshnick-university-of-chicago/my_project/runs/ebiu5qmb' target=\"_blank\">https://wandb.ai/jploshnick-university-of-chicago/my_project/runs/ebiu5qmb</a>"
      ],
      "text/plain": [
       "<IPython.core.display.HTML object>"
      ]
     },
     "metadata": {},
     "output_type": "display_data"
    },
    {
     "name": "stderr",
     "output_type": "stream",
     "text": [
      "\u001b[34m\u001b[1mwandb\u001b[0m: Downloading large artifact 'my_dataset:latest', 68.23MB. 1 files...\n",
      "\u001b[34m\u001b[1mwandb\u001b[0m:   1 of 1 files downloaded.  \n",
      "Done. 00:00:00.2 (293.0MB/s)\n"
     ]
    },
    {
     "data": {
      "text/html": [],
      "text/plain": [
       "<IPython.core.display.HTML object>"
      ]
     },
     "metadata": {},
     "output_type": "display_data"
    },
    {
     "data": {
      "text/html": [
       " View run <strong style=\"color:#cdcd00\">charmed-flower-10</strong> at: <a href='https://wandb.ai/jploshnick-university-of-chicago/my_project/runs/ebiu5qmb' target=\"_blank\">https://wandb.ai/jploshnick-university-of-chicago/my_project/runs/ebiu5qmb</a><br> View project at: <a href='https://wandb.ai/jploshnick-university-of-chicago/my_project' target=\"_blank\">https://wandb.ai/jploshnick-university-of-chicago/my_project</a><br>Synced 5 W&B file(s), 0 media file(s), 0 artifact file(s) and 0 other file(s)"
      ],
      "text/plain": [
       "<IPython.core.display.HTML object>"
      ]
     },
     "metadata": {},
     "output_type": "display_data"
    },
    {
     "data": {
      "text/html": [
       "Find logs at: <code>./wandb/run-20251015_204522-ebiu5qmb/logs</code>"
      ],
      "text/plain": [
       "<IPython.core.display.HTML object>"
      ]
     },
     "metadata": {},
     "output_type": "display_data"
    }
   ],
   "source": [
    "import wandb\n",
    "import pandas as pd\n",
    "\n",
    "# Initialize W&B (can use mode=\"offline\" if you want)\n",
    "wandb.init(project=\"my_project\", entity=\"jploshnick-university-of-chicago\")\n",
    "\n",
    "# Retrieve the dataset artifact (latest version)\n",
    "artifact = wandb.use_artifact('jploshnick-university-of-chicago/my_project/my_dataset:latest', type='dataset')\n",
    "\n",
    "# Download the artifact to a local directory\n",
    "artifact_dir = artifact.download()\n",
    "\n",
    "# Load the CSV into a pandas DataFrame\n",
    "csv_path = f\"{artifact_dir}/athletes.csv\"\n",
    "df = pd.read_csv(csv_path)\n",
    "\n",
    "# Finish the run\n",
    "wandb.finish()\n"
   ]
  },
  {
   "cell_type": "code",
   "execution_count": 20,
   "metadata": {},
   "outputs": [
    {
     "name": "stdout",
     "output_type": "stream",
     "text": [
      "R²: 0.970\n",
      "RMSE: 73.165\n"
     ]
    }
   ],
   "source": [
    "import pandas as pd\n",
    "from sklearn.model_selection import train_test_split\n",
    "from sklearn.linear_model import LinearRegression\n",
    "from sklearn.metrics import r2_score, mean_squared_error\n",
    "import numpy as np\n",
    "\n",
    "# Features and outcome\n",
    "features = ['age', 'height', 'weight', 'fran', 'helen', 'grace', 'filthy50', 'fgonebad', 'candj', 'run400', 'run5k', 'candj', 'snatch', 'pullups' ,'backsq']\n",
    "outcome = ['deadlift']\n",
    "\n",
    "df = df.dropna(subset=features + outcome)\n",
    "\n",
    "# Split into X and y\n",
    "X = df[features]\n",
    "y = df[outcome]\n",
    "\n",
    "# Train/test split\n",
    "X_train, X_test, y_train, y_test = train_test_split(X, y, test_size=0.2, random_state=42)\n",
    "\n",
    "# Train linear regression\n",
    "model = LinearRegression()\n",
    "model.fit(X_train, y_train)\n",
    "\n",
    "# Predict\n",
    "y_pred = model.predict(X_test)\n",
    "\n",
    "# Evaluate\n",
    "r2 = r2_score(y_test, y_pred)\n",
    "rmse = np.sqrt(mean_squared_error(y_test, y_pred))\n",
    "\n",
    "print(f\"R²: {r2:.3f}\")\n",
    "print(f\"RMSE: {rmse:.3f}\")\n"
   ]
  },
  {
   "cell_type": "markdown",
   "metadata": {},
   "source": [
    "## Get version 2, do eda, run model"
   ]
  },
  {
   "cell_type": "code",
   "execution_count": 25,
   "metadata": {},
   "outputs": [
    {
     "data": {
      "text/plain": [
       "'/Users/jackploshnick/Documents/MLOps_class/assignment_1/artifacts/my_dataset_v2:v0'"
      ]
     },
     "execution_count": 25,
     "metadata": {},
     "output_type": "execute_result"
    }
   ],
   "source": [
    "artifact_dir\n"
   ]
  },
  {
   "cell_type": "code",
   "execution_count": 28,
   "metadata": {},
   "outputs": [
    {
     "data": {
      "text/html": [],
      "text/plain": [
       "<IPython.core.display.HTML object>"
      ]
     },
     "metadata": {},
     "output_type": "display_data"
    },
    {
     "data": {
      "text/html": [
       "Tracking run with wandb version 0.22.2"
      ],
      "text/plain": [
       "<IPython.core.display.HTML object>"
      ]
     },
     "metadata": {},
     "output_type": "display_data"
    },
    {
     "data": {
      "text/html": [
       "Run data is saved locally in <code>/Users/jackploshnick/Documents/MLOps_class/assignment_1/wandb/run-20251015_204558-2slj9a73</code>"
      ],
      "text/plain": [
       "<IPython.core.display.HTML object>"
      ]
     },
     "metadata": {},
     "output_type": "display_data"
    },
    {
     "data": {
      "text/html": [
       "Syncing run <strong><a href='https://wandb.ai/jploshnick-university-of-chicago/my_project/runs/2slj9a73' target=\"_blank\">proud-field-11</a></strong> to <a href='https://wandb.ai/jploshnick-university-of-chicago/my_project' target=\"_blank\">Weights & Biases</a> (<a href='https://wandb.me/developer-guide' target=\"_blank\">docs</a>)<br>"
      ],
      "text/plain": [
       "<IPython.core.display.HTML object>"
      ]
     },
     "metadata": {},
     "output_type": "display_data"
    },
    {
     "data": {
      "text/html": [
       " View project at <a href='https://wandb.ai/jploshnick-university-of-chicago/my_project' target=\"_blank\">https://wandb.ai/jploshnick-university-of-chicago/my_project</a>"
      ],
      "text/plain": [
       "<IPython.core.display.HTML object>"
      ]
     },
     "metadata": {},
     "output_type": "display_data"
    },
    {
     "data": {
      "text/html": [
       " View run at <a href='https://wandb.ai/jploshnick-university-of-chicago/my_project/runs/2slj9a73' target=\"_blank\">https://wandb.ai/jploshnick-university-of-chicago/my_project/runs/2slj9a73</a>"
      ],
      "text/plain": [
       "<IPython.core.display.HTML object>"
      ]
     },
     "metadata": {},
     "output_type": "display_data"
    },
    {
     "name": "stderr",
     "output_type": "stream",
     "text": [
      "\u001b[34m\u001b[1mwandb\u001b[0m:   1 of 1 files downloaded.  \n"
     ]
    },
    {
     "data": {
      "text/html": [],
      "text/plain": [
       "<IPython.core.display.HTML object>"
      ]
     },
     "metadata": {},
     "output_type": "display_data"
    },
    {
     "data": {
      "text/html": [
       " View run <strong style=\"color:#cdcd00\">proud-field-11</strong> at: <a href='https://wandb.ai/jploshnick-university-of-chicago/my_project/runs/2slj9a73' target=\"_blank\">https://wandb.ai/jploshnick-university-of-chicago/my_project/runs/2slj9a73</a><br> View project at: <a href='https://wandb.ai/jploshnick-university-of-chicago/my_project' target=\"_blank\">https://wandb.ai/jploshnick-university-of-chicago/my_project</a><br>Synced 5 W&B file(s), 0 media file(s), 0 artifact file(s) and 0 other file(s)"
      ],
      "text/plain": [
       "<IPython.core.display.HTML object>"
      ]
     },
     "metadata": {},
     "output_type": "display_data"
    },
    {
     "data": {
      "text/html": [
       "Find logs at: <code>./wandb/run-20251015_204558-2slj9a73/logs</code>"
      ],
      "text/plain": [
       "<IPython.core.display.HTML object>"
      ]
     },
     "metadata": {},
     "output_type": "display_data"
    }
   ],
   "source": [
    "import wandb\n",
    "import pandas as pd\n",
    "\n",
    "# Initialize W&B (can use mode=\"offline\" if you want)\n",
    "wandb.init(project=\"my_project\", entity=\"jploshnick-university-of-chicago\")\n",
    "\n",
    "# Retrieve the dataset artifact (latest version)\n",
    "artifact = wandb.use_artifact('jploshnick-university-of-chicago/my_project/my_dataset_v2:latest', type='dataset')\n",
    "\n",
    "# Download the artifact to a local directory\n",
    "artifact_dir = artifact.download()\n",
    "\n",
    "# Load the CSV into a pandas DataFrame\n",
    "csv_path = f\"{artifact_dir}/athletes_v2.csv\"\n",
    "df = pd.read_csv(csv_path)\n",
    "\n",
    "# Finish the run\n",
    "wandb.finish()"
   ]
  },
  {
   "cell_type": "code",
   "execution_count": 30,
   "metadata": {},
   "outputs": [
    {
     "name": "stdout",
     "output_type": "stream",
     "text": [
      "R²: 0.838\n",
      "RMSE: 39.120\n"
     ]
    }
   ],
   "source": [
    "import pandas as pd\n",
    "from sklearn.model_selection import train_test_split\n",
    "from sklearn.linear_model import LinearRegression\n",
    "from sklearn.metrics import r2_score, mean_squared_error\n",
    "import numpy as np\n",
    "\n",
    "# Features and outcome\n",
    "features = ['age', 'height', 'weight', 'candj', 'snatch', 'backsq']\n",
    "outcome = ['deadlift']\n",
    "\n",
    "df = df.dropna(subset=features + outcome)\n",
    "\n",
    "# Split into X and y\n",
    "X = df[features]\n",
    "y = df[outcome]\n",
    "\n",
    "# Train/test split\n",
    "X_train, X_test, y_train, y_test = train_test_split(X, y, test_size=0.2, random_state=42)\n",
    "\n",
    "# Train linear regression\n",
    "model = LinearRegression()\n",
    "model.fit(X_train, y_train)\n",
    "\n",
    "# Predict\n",
    "y_pred = model.predict(X_test)\n",
    "\n",
    "# Evaluate\n",
    "r2 = r2_score(y_test, y_pred)\n",
    "rmse = np.sqrt(mean_squared_error(y_test, y_pred))\n",
    "\n",
    "print(f\"R²: {r2:.3f}\")\n",
    "print(f\"RMSE: {rmse:.3f}\")"
   ]
  },
  {
   "cell_type": "markdown",
   "metadata": {},
   "source": [
    "V2 model is indeed worse. .83 r2 vs .97 r2"
   ]
  },
  {
   "cell_type": "markdown",
   "metadata": {},
   "source": [
    "## Use tensor flow privacy library with the dataset v2 and calculate the metrics for the new DP model."
   ]
  },
  {
   "cell_type": "code",
   "execution_count": null,
   "metadata": {},
   "outputs": [
    {
     "name": "stderr",
     "output_type": "stream",
     "text": [
      "2025-10-15 20:46:24.905071: I tensorflow/core/platform/cpu_feature_guard.cc:210] This TensorFlow binary is optimized to use available CPU instructions in performance-critical operations.\n",
      "To enable the following instructions: AVX2 AVX512F AVX512_VNNI FMA, in other operations, rebuild TensorFlow with the appropriate compiler flags.\n",
      "/opt/anaconda3/lib/python3.12/site-packages/keras/src/layers/core/dense.py:87: UserWarning: Do not pass an `input_shape`/`input_dim` argument to a layer. When using Sequential models, prefer using an `Input(shape)` object as the first layer in the model instead.\n",
      "  super().__init__(activity_regularizer=activity_regularizer, **kwargs)\n"
     ]
    },
    {
     "name": "stdout",
     "output_type": "stream",
     "text": [
      "\u001b[1m188/188\u001b[0m \u001b[32m━━━━━━━━━━━━━━━━━━━━\u001b[0m\u001b[37m\u001b[0m \u001b[1m1s\u001b[0m 5ms/step\n",
      "R²: -13.825\n",
      "RMSE: 374.101\n"
     ]
    }
   ],
   "source": [
    "import numpy as np\n",
    "import pandas as pd\n",
    "from sklearn.model_selection import train_test_split\n",
    "from sklearn.preprocessing import StandardScaler\n",
    "from sklearn.metrics import accuracy_score\n",
    "import tensorflow as tf\n",
    "\n",
    "# TP privacy does not work with python 3.12 and intel chip, so using manual DP-SGD approximation instead\n",
    "\n",
    "# -----------------------------\n",
    "# DP model (manual DP-SGD approx)\n",
    "# -----------------------------\n",
    "# Hyperparameters\n",
    "batch_size = 32\n",
    "noise_multiplier = 1.0  # sigma\n",
    "epochs = 10\n",
    "learning_rate = 0.01\n",
    "\n",
    "dp_model = tf.keras.Sequential([\n",
    "    tf.keras.layers.Dense(32, activation='relu', input_shape=(X_train.shape[1],)),\n",
    "    tf.keras.layers.Dense(1, activation='sigmoid')\n",
    "])\n",
    "optimizer = tf.keras.optimizers.SGD(learning_rate=learning_rate)\n",
    "\n",
    "# Training with noise added to gradients\n",
    "for epoch in range(epochs):\n",
    "    for i in range(0, X_train.shape[0], batch_size):\n",
    "        x_batch = X_train[i:i+batch_size]\n",
    "        y_batch = y_train.iloc[i:i+batch_size]\n",
    "        with tf.GradientTape() as tape:\n",
    "            logits = dp_model(x_batch, training=True)\n",
    "            loss = tf.keras.losses.binary_crossentropy(y_batch, logits)\n",
    "        grads = tape.gradient(loss, dp_model.trainable_variables)\n",
    "        # Add Gaussian noise to each gradient\n",
    "        noisy_grads = [g + tf.random.normal(g.shape, stddev=noise_multiplier) for g in grads]\n",
    "        optimizer.apply_gradients(zip(noisy_grads, dp_model.trainable_variables))\n",
    "\n",
    "y_pred_dp = (dp_model.predict(X_test) > 0.5).astype(int)\n",
    "acc_dp = accuracy_score(y_test, y_pred_dp)\n",
    "\n",
    "# -----------------------------\n",
    "# Compute approximate DP epsilon\n",
    "# -----------------------------\n",
    "def compute_epsilon(q, sigma, steps, delta):\n",
    "    import numpy as np\n",
    "    orders = np.arange(2, 64)\n",
    "    rdp = np.array([steps * q**2 / (2 * sigma**2) for _ in orders])\n",
    "    eps = min(rdp - np.log(delta) / (orders - 1))\n",
    "    return eps\n",
    "\n",
    "steps = epochs * (X_train.shape[0] // batch_size)\n",
    "sampling_prob = batch_size / X_train.shape[0]\n",
    "delta = 1e-5\n",
    "epsilon = compute_epsilon(sampling_prob, noise_multiplier, steps, delta)\n",
    "\n",
    "# -----------------------------\n",
    "# Return a new DataFrame with DP predictions\n",
    "# -----------------------------\n",
    "df_results = df.copy()\n",
    "df_results['pred_non_dp'] = np.nan\n",
    "df_results['pred_dp'] = np.nan\n",
    "\n",
    "# Assign predictions to test set rows\n",
    "df_results.loc[y_test.index, 'pred_dp'] = y_pred_dp\n",
    "df_results['dp_epsilon'] = epsilon\n",
    "\n",
    "\n",
    "# Evaluate\n",
    "r2 = r2_score(y_test, y_pred_dp)\n",
    "rmse = np.sqrt(mean_squared_error(y_test, y_pred_dp))\n",
    "\n",
    "print(f\"R²: {r2:.3f}\")\n",
    "print(f\"RMSE: {rmse:.3f}\")\n",
    "\n"
   ]
  },
  {
   "cell_type": "markdown",
   "metadata": {},
   "source": [
    "In the DP approach, the accuracy of the model has degraged to the point where it is not at all useful"
   ]
  },
  {
   "cell_type": "markdown",
   "metadata": {},
   "source": []
  }
 ],
 "metadata": {
  "kernelspec": {
   "display_name": "base",
   "language": "python",
   "name": "python3"
  },
  "language_info": {
   "codemirror_mode": {
    "name": "ipython",
    "version": 3
   },
   "file_extension": ".py",
   "mimetype": "text/x-python",
   "name": "python",
   "nbconvert_exporter": "python",
   "pygments_lexer": "ipython3",
   "version": "3.12.4"
  }
 },
 "nbformat": 4,
 "nbformat_minor": 2
}
