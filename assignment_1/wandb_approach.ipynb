{
 "cells": [
  {
   "cell_type": "markdown",
   "metadata": {},
   "source": [
    "# Setup"
   ]
  },
  {
   "cell_type": "code",
   "execution_count": 10,
   "metadata": {},
   "outputs": [],
   "source": [
    "import pandas as pd\n",
    "import numpy as np\n",
    "import os\n"
   ]
  },
  {
   "cell_type": "code",
   "execution_count": 11,
   "metadata": {},
   "outputs": [],
   "source": [
    "version_1_path = local_path = os.path.expanduser('~/Documents/UChicago_MADS/general_datasets/athletes.csv')"
   ]
  },
  {
   "cell_type": "markdown",
   "metadata": {},
   "source": [
    "# Weights and Baises"
   ]
  },
  {
   "cell_type": "code",
   "execution_count": null,
   "metadata": {},
   "outputs": [],
   "source": [
    "# go to https://wandb.ai/authorize?ref=models to get your API key"
   ]
  },
  {
   "cell_type": "code",
   "execution_count": 5,
   "metadata": {},
   "outputs": [],
   "source": [
    "import wandb\n"
   ]
  },
  {
   "cell_type": "code",
   "execution_count": 7,
   "metadata": {},
   "outputs": [
    {
     "data": {
      "text/html": [],
      "text/plain": [
       "<IPython.core.display.HTML object>"
      ]
     },
     "metadata": {},
     "output_type": "display_data"
    },
    {
     "data": {
      "text/html": [
       "Tracking run with wandb version 0.22.2"
      ],
      "text/plain": [
       "<IPython.core.display.HTML object>"
      ]
     },
     "metadata": {},
     "output_type": "display_data"
    },
    {
     "data": {
      "text/html": [
       "Run data is saved locally in <code>/Users/jackploshnick/Documents/MLOps_class/assignment_1/wandb/run-20251015_203936-s0qh9ufg</code>"
      ],
      "text/plain": [
       "<IPython.core.display.HTML object>"
      ]
     },
     "metadata": {},
     "output_type": "display_data"
    },
    {
     "data": {
      "text/html": [
       "Syncing run <strong><a href='https://wandb.ai/jploshnick-university-of-chicago/my_project/runs/s0qh9ufg' target=\"_blank\">wobbly-music-1</a></strong> to <a href='https://wandb.ai/jploshnick-university-of-chicago/my_project' target=\"_blank\">Weights & Biases</a> (<a href='https://wandb.me/developer-guide' target=\"_blank\">docs</a>)<br>"
      ],
      "text/plain": [
       "<IPython.core.display.HTML object>"
      ]
     },
     "metadata": {},
     "output_type": "display_data"
    },
    {
     "data": {
      "text/html": [
       " View project at <a href='https://wandb.ai/jploshnick-university-of-chicago/my_project' target=\"_blank\">https://wandb.ai/jploshnick-university-of-chicago/my_project</a>"
      ],
      "text/plain": [
       "<IPython.core.display.HTML object>"
      ]
     },
     "metadata": {},
     "output_type": "display_data"
    },
    {
     "data": {
      "text/html": [
       " View run at <a href='https://wandb.ai/jploshnick-university-of-chicago/my_project/runs/s0qh9ufg' target=\"_blank\">https://wandb.ai/jploshnick-university-of-chicago/my_project/runs/s0qh9ufg</a>"
      ],
      "text/plain": [
       "<IPython.core.display.HTML object>"
      ]
     },
     "metadata": {},
     "output_type": "display_data"
    },
    {
     "data": {
      "text/html": [
       "<button onClick=\"this.nextSibling.style.display='block';this.style.display='none';\">Display W&B run</button><iframe src='https://wandb.ai/jploshnick-university-of-chicago/my_project/runs/s0qh9ufg?jupyter=true' style='border:none;width:100%;height:420px;display:none;'></iframe>"
      ],
      "text/plain": [
       "<wandb.sdk.wandb_run.Run at 0x11ae5dfa0>"
      ]
     },
     "execution_count": 7,
     "metadata": {},
     "output_type": "execute_result"
    }
   ],
   "source": [
    "wandb.init(project=\"my_project\", entity=\"jploshnick-university-of-chicago\")"
   ]
  },
  {
   "cell_type": "code",
   "execution_count": 8,
   "metadata": {},
   "outputs": [
    {
     "data": {
      "text/html": [],
      "text/plain": [
       "<IPython.core.display.HTML object>"
      ]
     },
     "metadata": {},
     "output_type": "display_data"
    },
    {
     "data": {
      "text/html": [
       " View run <strong style=\"color:#cdcd00\">wobbly-music-1</strong> at: <a href='https://wandb.ai/jploshnick-university-of-chicago/my_project/runs/s0qh9ufg' target=\"_blank\">https://wandb.ai/jploshnick-university-of-chicago/my_project/runs/s0qh9ufg</a><br> View project at: <a href='https://wandb.ai/jploshnick-university-of-chicago/my_project' target=\"_blank\">https://wandb.ai/jploshnick-university-of-chicago/my_project</a><br>Synced 5 W&B file(s), 0 media file(s), 2 artifact file(s) and 0 other file(s)"
      ],
      "text/plain": [
       "<IPython.core.display.HTML object>"
      ]
     },
     "metadata": {},
     "output_type": "display_data"
    },
    {
     "data": {
      "text/html": [
       "Find logs at: <code>./wandb/run-20251015_203936-s0qh9ufg/logs</code>"
      ],
      "text/plain": [
       "<IPython.core.display.HTML object>"
      ]
     },
     "metadata": {},
     "output_type": "display_data"
    }
   ],
   "source": [
    "# Create a dataset artifact\n",
    "dataset_artifact = wandb.Artifact(\n",
    "    name=\"my_dataset\",\n",
    "    type=\"dataset\",\n",
    "    description=\"Initial version of the dataset\"\n",
    ")\n",
    "\n",
    "# Add files\n",
    "dataset_artifact.add_file(\"/Users/jackploshnick/Documents/UChicago_MADS/general_datasets/athletes.csv\")\n",
    "\n",
    "# Log the artifact\n",
    "wandb.log_artifact(dataset_artifact)\n",
    "\n",
    "# Finish the run\n",
    "wandb.finish()\n"
   ]
  },
  {
   "cell_type": "markdown",
   "metadata": {},
   "source": [
    "## update the dataet, make a new commit"
   ]
  },
  {
   "cell_type": "code",
   "execution_count": 12,
   "metadata": {},
   "outputs": [],
   "source": [
    "data = pd.read_csv(version_1_path)\n",
    "\n",
    "# Remove not relevant columns\n",
    "data = data.dropna(subset=['region','age','weight','height','howlong','gender','eat', \\\n",
    "                            'train','background','experience','schedule','howlong', \\\n",
    "                            'deadlift','candj','snatch','backsq','experience',\\\n",
    "                            'background','schedule','howlong'])\n",
    "data = data.drop(columns=['affiliate','team','name','athlete_id','fran','helen','grace',\\\n",
    "                            'filthy50','fgonebad','run400','run5k','pullups','train'])\n",
    "\n",
    "# Remove Outliers\n",
    "\n",
    "data = data[data['weight'] < 1500]\n",
    "data = data[data['gender'] != '--']\n",
    "data = data[data['age'] >= 18]\n",
    "data = data[(data['height'] < 96) & (data['height'] > 48)]\n",
    "\n",
    "data = data[(data['deadlift'] > 0) & (data['deadlift'] <= 1105)|((data['gender'] == 'Female') \\\n",
    "                & (data['deadlift'] <= 636))]\n",
    "data = data[(data['candj'] > 0) & (data['candj'] <= 395)]\n",
    "data = data[(data['snatch'] > 0) & (data['snatch'] <= 496)]\n",
    "data = data[(data['backsq'] > 0) & (data['backsq'] <= 1069)]\n",
    "\n",
    "# Clean Survey Data\n",
    "\n",
    "decline_dict = {'Decline to answer|': np.nan}\n",
    "data = data.replace(decline_dict)\n",
    "data = data.dropna(subset=['background','experience','schedule','howlong','eat'])\n",
    "\n",
    "data.to_csv('/Users/jackploshnick/Documents/UChicago_MADS/general_datasets/athletes_v2.csv', index=False)\n",
    "\n"
   ]
  },
  {
   "cell_type": "code",
   "execution_count": 14,
   "metadata": {},
   "outputs": [
    {
     "data": {
      "text/html": [],
      "text/plain": [
       "<IPython.core.display.HTML object>"
      ]
     },
     "metadata": {},
     "output_type": "display_data"
    },
    {
     "data": {
      "text/html": [
       "Tracking run with wandb version 0.22.2"
      ],
      "text/plain": [
       "<IPython.core.display.HTML object>"
      ]
     },
     "metadata": {},
     "output_type": "display_data"
    },
    {
     "data": {
      "text/html": [
       "Run data is saved locally in <code>/Users/jackploshnick/Documents/MLOps_class/assignment_1/wandb/run-20251015_204118-oo95zoic</code>"
      ],
      "text/plain": [
       "<IPython.core.display.HTML object>"
      ]
     },
     "metadata": {},
     "output_type": "display_data"
    },
    {
     "data": {
      "text/html": [
       "Syncing run <strong><a href='https://wandb.ai/jploshnick-university-of-chicago/my_project/runs/oo95zoic' target=\"_blank\">logical-spaceship-2</a></strong> to <a href='https://wandb.ai/jploshnick-university-of-chicago/my_project' target=\"_blank\">Weights & Biases</a> (<a href='https://wandb.me/developer-guide' target=\"_blank\">docs</a>)<br>"
      ],
      "text/plain": [
       "<IPython.core.display.HTML object>"
      ]
     },
     "metadata": {},
     "output_type": "display_data"
    },
    {
     "data": {
      "text/html": [
       " View project at <a href='https://wandb.ai/jploshnick-university-of-chicago/my_project' target=\"_blank\">https://wandb.ai/jploshnick-university-of-chicago/my_project</a>"
      ],
      "text/plain": [
       "<IPython.core.display.HTML object>"
      ]
     },
     "metadata": {},
     "output_type": "display_data"
    },
    {
     "data": {
      "text/html": [
       " View run at <a href='https://wandb.ai/jploshnick-university-of-chicago/my_project/runs/oo95zoic' target=\"_blank\">https://wandb.ai/jploshnick-university-of-chicago/my_project/runs/oo95zoic</a>"
      ],
      "text/plain": [
       "<IPython.core.display.HTML object>"
      ]
     },
     "metadata": {},
     "output_type": "display_data"
    },
    {
     "data": {
      "text/html": [],
      "text/plain": [
       "<IPython.core.display.HTML object>"
      ]
     },
     "metadata": {},
     "output_type": "display_data"
    },
    {
     "data": {
      "text/html": [
       " View run <strong style=\"color:#cdcd00\">logical-spaceship-2</strong> at: <a href='https://wandb.ai/jploshnick-university-of-chicago/my_project/runs/oo95zoic' target=\"_blank\">https://wandb.ai/jploshnick-university-of-chicago/my_project/runs/oo95zoic</a><br> View project at: <a href='https://wandb.ai/jploshnick-university-of-chicago/my_project' target=\"_blank\">https://wandb.ai/jploshnick-university-of-chicago/my_project</a><br>Synced 5 W&B file(s), 0 media file(s), 2 artifact file(s) and 0 other file(s)"
      ],
      "text/plain": [
       "<IPython.core.display.HTML object>"
      ]
     },
     "metadata": {},
     "output_type": "display_data"
    },
    {
     "data": {
      "text/html": [
       "Find logs at: <code>./wandb/run-20251015_204118-oo95zoic/logs</code>"
      ],
      "text/plain": [
       "<IPython.core.display.HTML object>"
      ]
     },
     "metadata": {},
     "output_type": "display_data"
    }
   ],
   "source": [
    "wandb.init(project=\"my_project\", entity=\"jploshnick-university-of-chicago\")\n",
    "\n",
    "# Create a dataset artifact\n",
    "dataset_artifact = wandb.Artifact(\n",
    "    name=\"my_dataset_v2\",\n",
    "    type=\"dataset\",\n",
    "    description=\"Second version of the dataset\"\n",
    ")\n",
    "\n",
    "# Add files\n",
    "dataset_artifact.add_file(\"/Users/jackploshnick/Documents/UChicago_MADS/general_datasets/athletes_v2.csv\")\n",
    "\n",
    "# Log the artifact\n",
    "wandb.log_artifact(dataset_artifact)\n",
    "\n",
    "# Finish the run\n",
    "wandb.finish()\n"
   ]
  },
  {
   "cell_type": "markdown",
   "metadata": {},
   "source": [
    "## Get version 1, do eda, run model"
   ]
  },
  {
   "cell_type": "code",
   "execution_count": 26,
   "metadata": {},
   "outputs": [
    {
     "data": {
      "text/html": [
       "Finishing previous runs because reinit is set to 'default'."
      ],
      "text/plain": [
       "<IPython.core.display.HTML object>"
      ]
     },
     "metadata": {},
     "output_type": "display_data"
    },
    {
     "data": {
      "text/html": [],
      "text/plain": [
       "<IPython.core.display.HTML object>"
      ]
     },
     "metadata": {},
     "output_type": "display_data"
    },
    {
     "data": {
      "text/html": [
       " View run <strong style=\"color:#cdcd00\">devoted-jazz-9</strong> at: <a href='https://wandb.ai/jploshnick-university-of-chicago/my_project/runs/kur0vfgm' target=\"_blank\">https://wandb.ai/jploshnick-university-of-chicago/my_project/runs/kur0vfgm</a><br> View project at: <a href='https://wandb.ai/jploshnick-university-of-chicago/my_project' target=\"_blank\">https://wandb.ai/jploshnick-university-of-chicago/my_project</a><br>Synced 5 W&B file(s), 0 media file(s), 0 artifact file(s) and 0 other file(s)"
      ],
      "text/plain": [
       "<IPython.core.display.HTML object>"
      ]
     },
     "metadata": {},
     "output_type": "display_data"
    },
    {
     "data": {
      "text/html": [
       "Find logs at: <code>./wandb/run-20251015_204503-kur0vfgm/logs</code>"
      ],
      "text/plain": [
       "<IPython.core.display.HTML object>"
      ]
     },
     "metadata": {},
     "output_type": "display_data"
    },
    {
     "data": {
      "text/html": [],
      "text/plain": [
       "<IPython.core.display.HTML object>"
      ]
     },
     "metadata": {},
     "output_type": "display_data"
    },
    {
     "data": {
      "text/html": [
       "Tracking run with wandb version 0.22.2"
      ],
      "text/plain": [
       "<IPython.core.display.HTML object>"
      ]
     },
     "metadata": {},
     "output_type": "display_data"
    },
    {
     "data": {
      "text/html": [
       "Run data is saved locally in <code>/Users/jackploshnick/Documents/MLOps_class/assignment_1/wandb/run-20251015_204522-ebiu5qmb</code>"
      ],
      "text/plain": [
       "<IPython.core.display.HTML object>"
      ]
     },
     "metadata": {},
     "output_type": "display_data"
    },
    {
     "data": {
      "text/html": [
       "Syncing run <strong><a href='https://wandb.ai/jploshnick-university-of-chicago/my_project/runs/ebiu5qmb' target=\"_blank\">charmed-flower-10</a></strong> to <a href='https://wandb.ai/jploshnick-university-of-chicago/my_project' target=\"_blank\">Weights & Biases</a> (<a href='https://wandb.me/developer-guide' target=\"_blank\">docs</a>)<br>"
      ],
      "text/plain": [
       "<IPython.core.display.HTML object>"
      ]
     },
     "metadata": {},
     "output_type": "display_data"
    },
    {
     "data": {
      "text/html": [
       " View project at <a href='https://wandb.ai/jploshnick-university-of-chicago/my_project' target=\"_blank\">https://wandb.ai/jploshnick-university-of-chicago/my_project</a>"
      ],
      "text/plain": [
       "<IPython.core.display.HTML object>"
      ]
     },
     "metadata": {},
     "output_type": "display_data"
    },
    {
     "data": {
      "text/html": [
       " View run at <a href='https://wandb.ai/jploshnick-university-of-chicago/my_project/runs/ebiu5qmb' target=\"_blank\">https://wandb.ai/jploshnick-university-of-chicago/my_project/runs/ebiu5qmb</a>"
      ],
      "text/plain": [
       "<IPython.core.display.HTML object>"
      ]
     },
     "metadata": {},
     "output_type": "display_data"
    },
    {
     "name": "stderr",
     "output_type": "stream",
     "text": [
      "\u001b[34m\u001b[1mwandb\u001b[0m: Downloading large artifact 'my_dataset:latest', 68.23MB. 1 files...\n",
      "\u001b[34m\u001b[1mwandb\u001b[0m:   1 of 1 files downloaded.  \n",
      "Done. 00:00:00.2 (293.0MB/s)\n"
     ]
    },
    {
     "data": {
      "text/html": [],
      "text/plain": [
       "<IPython.core.display.HTML object>"
      ]
     },
     "metadata": {},
     "output_type": "display_data"
    },
    {
     "data": {
      "text/html": [
       " View run <strong style=\"color:#cdcd00\">charmed-flower-10</strong> at: <a href='https://wandb.ai/jploshnick-university-of-chicago/my_project/runs/ebiu5qmb' target=\"_blank\">https://wandb.ai/jploshnick-university-of-chicago/my_project/runs/ebiu5qmb</a><br> View project at: <a href='https://wandb.ai/jploshnick-university-of-chicago/my_project' target=\"_blank\">https://wandb.ai/jploshnick-university-of-chicago/my_project</a><br>Synced 5 W&B file(s), 0 media file(s), 0 artifact file(s) and 0 other file(s)"
      ],
      "text/plain": [
       "<IPython.core.display.HTML object>"
      ]
     },
     "metadata": {},
     "output_type": "display_data"
    },
    {
     "data": {
      "text/html": [
       "Find logs at: <code>./wandb/run-20251015_204522-ebiu5qmb/logs</code>"
      ],
      "text/plain": [
       "<IPython.core.display.HTML object>"
      ]
     },
     "metadata": {},
     "output_type": "display_data"
    }
   ],
   "source": [
    "import wandb\n",
    "import pandas as pd\n",
    "\n",
    "# Initialize W&B (can use mode=\"offline\" if you want)\n",
    "wandb.init(project=\"my_project\", entity=\"jploshnick-university-of-chicago\")\n",
    "\n",
    "# Retrieve the dataset artifact (latest version)\n",
    "artifact = wandb.use_artifact('jploshnick-university-of-chicago/my_project/my_dataset:latest', type='dataset')\n",
    "\n",
    "# Download the artifact to a local directory\n",
    "artifact_dir = artifact.download()\n",
    "\n",
    "# Load the CSV into a pandas DataFrame\n",
    "csv_path = f\"{artifact_dir}/athletes.csv\"\n",
    "df = pd.read_csv(csv_path)\n",
    "\n",
    "# Finish the run\n",
    "wandb.finish()\n"
   ]
  },
  {
   "cell_type": "code",
   "execution_count": 20,
   "metadata": {},
   "outputs": [
    {
     "name": "stdout",
     "output_type": "stream",
     "text": [
      "R²: 0.970\n",
      "RMSE: 73.165\n"
     ]
    }
   ],
   "source": [
    "import pandas as pd\n",
    "from sklearn.model_selection import train_test_split\n",
    "from sklearn.linear_model import LinearRegression\n",
    "from sklearn.metrics import r2_score, mean_squared_error\n",
    "import numpy as np\n",
    "\n",
    "# Features and outcome\n",
    "features = ['age', 'height', 'weight', 'fran', 'helen', 'grace', 'filthy50', 'fgonebad', 'candj', 'run400', 'run5k', 'candj', 'snatch', 'pullups' ,'backsq']\n",
    "outcome = ['deadlift']\n",
    "\n",
    "df = df.dropna(subset=features + outcome)\n",
    "\n",
    "# Split into X and y\n",
    "X = df[features]\n",
    "y = df[outcome]\n",
    "\n",
    "# Train/test split\n",
    "X_train, X_test, y_train, y_test = train_test_split(X, y, test_size=0.2, random_state=42)\n",
    "\n",
    "# Train linear regression\n",
    "model = LinearRegression()\n",
    "model.fit(X_train, y_train)\n",
    "\n",
    "# Predict\n",
    "y_pred = model.predict(X_test)\n",
    "\n",
    "# Evaluate\n",
    "r2 = r2_score(y_test, y_pred)\n",
    "rmse = np.sqrt(mean_squared_error(y_test, y_pred))\n",
    "\n",
    "print(f\"R²: {r2:.3f}\")\n",
    "print(f\"RMSE: {rmse:.3f}\")\n"
   ]
  },
  {
   "cell_type": "markdown",
   "metadata": {},
   "source": [
    "## Get version 2, do eda, run model"
   ]
  },
  {
   "cell_type": "code",
   "execution_count": 25,
   "metadata": {},
   "outputs": [
    {
     "data": {
      "text/plain": [
       "'/Users/jackploshnick/Documents/MLOps_class/assignment_1/artifacts/my_dataset_v2:v0'"
      ]
     },
     "execution_count": 25,
     "metadata": {},
     "output_type": "execute_result"
    }
   ],
   "source": [
    "artifact_dir\n"
   ]
  },
  {
   "cell_type": "code",
   "execution_count": 28,
   "metadata": {},
   "outputs": [
    {
     "data": {
      "text/html": [],
      "text/plain": [
       "<IPython.core.display.HTML object>"
      ]
     },
     "metadata": {},
     "output_type": "display_data"
    },
    {
     "data": {
      "text/html": [
       "Tracking run with wandb version 0.22.2"
      ],
      "text/plain": [
       "<IPython.core.display.HTML object>"
      ]
     },
     "metadata": {},
     "output_type": "display_data"
    },
    {
     "data": {
      "text/html": [
       "Run data is saved locally in <code>/Users/jackploshnick/Documents/MLOps_class/assignment_1/wandb/run-20251015_204558-2slj9a73</code>"
      ],
      "text/plain": [
       "<IPython.core.display.HTML object>"
      ]
     },
     "metadata": {},
     "output_type": "display_data"
    },
    {
     "data": {
      "text/html": [
       "Syncing run <strong><a href='https://wandb.ai/jploshnick-university-of-chicago/my_project/runs/2slj9a73' target=\"_blank\">proud-field-11</a></strong> to <a href='https://wandb.ai/jploshnick-university-of-chicago/my_project' target=\"_blank\">Weights & Biases</a> (<a href='https://wandb.me/developer-guide' target=\"_blank\">docs</a>)<br>"
      ],
      "text/plain": [
       "<IPython.core.display.HTML object>"
      ]
     },
     "metadata": {},
     "output_type": "display_data"
    },
    {
     "data": {
      "text/html": [
       " View project at <a href='https://wandb.ai/jploshnick-university-of-chicago/my_project' target=\"_blank\">https://wandb.ai/jploshnick-university-of-chicago/my_project</a>"
      ],
      "text/plain": [
       "<IPython.core.display.HTML object>"
      ]
     },
     "metadata": {},
     "output_type": "display_data"
    },
    {
     "data": {
      "text/html": [
       " View run at <a href='https://wandb.ai/jploshnick-university-of-chicago/my_project/runs/2slj9a73' target=\"_blank\">https://wandb.ai/jploshnick-university-of-chicago/my_project/runs/2slj9a73</a>"
      ],
      "text/plain": [
       "<IPython.core.display.HTML object>"
      ]
     },
     "metadata": {},
     "output_type": "display_data"
    },
    {
     "name": "stderr",
     "output_type": "stream",
     "text": [
      "\u001b[34m\u001b[1mwandb\u001b[0m:   1 of 1 files downloaded.  \n"
     ]
    },
    {
     "data": {
      "text/html": [],
      "text/plain": [
       "<IPython.core.display.HTML object>"
      ]
     },
     "metadata": {},
     "output_type": "display_data"
    },
    {
     "data": {
      "text/html": [
       " View run <strong style=\"color:#cdcd00\">proud-field-11</strong> at: <a href='https://wandb.ai/jploshnick-university-of-chicago/my_project/runs/2slj9a73' target=\"_blank\">https://wandb.ai/jploshnick-university-of-chicago/my_project/runs/2slj9a73</a><br> View project at: <a href='https://wandb.ai/jploshnick-university-of-chicago/my_project' target=\"_blank\">https://wandb.ai/jploshnick-university-of-chicago/my_project</a><br>Synced 5 W&B file(s), 0 media file(s), 0 artifact file(s) and 0 other file(s)"
      ],
      "text/plain": [
       "<IPython.core.display.HTML object>"
      ]
     },
     "metadata": {},
     "output_type": "display_data"
    },
    {
     "data": {
      "text/html": [
       "Find logs at: <code>./wandb/run-20251015_204558-2slj9a73/logs</code>"
      ],
      "text/plain": [
       "<IPython.core.display.HTML object>"
      ]
     },
     "metadata": {},
     "output_type": "display_data"
    }
   ],
   "source": [
    "import wandb\n",
    "import pandas as pd\n",
    "\n",
    "# Initialize W&B (can use mode=\"offline\" if you want)\n",
    "wandb.init(project=\"my_project\", entity=\"jploshnick-university-of-chicago\")\n",
    "\n",
    "# Retrieve the dataset artifact (latest version)\n",
    "artifact = wandb.use_artifact('jploshnick-university-of-chicago/my_project/my_dataset_v2:latest', type='dataset')\n",
    "\n",
    "# Download the artifact to a local directory\n",
    "artifact_dir = artifact.download()\n",
    "\n",
    "# Load the CSV into a pandas DataFrame\n",
    "csv_path = f\"{artifact_dir}/athletes_v2.csv\"\n",
    "df = pd.read_csv(csv_path)\n",
    "\n",
    "# Finish the run\n",
    "wandb.finish()"
   ]
  },
  {
   "cell_type": "code",
   "execution_count": 30,
   "metadata": {},
   "outputs": [
    {
     "name": "stdout",
     "output_type": "stream",
     "text": [
      "R²: 0.838\n",
      "RMSE: 39.120\n"
     ]
    }
   ],
   "source": [
    "import pandas as pd\n",
    "from sklearn.model_selection import train_test_split\n",
    "from sklearn.linear_model import LinearRegression\n",
    "from sklearn.metrics import r2_score, mean_squared_error\n",
    "import numpy as np\n",
    "\n",
    "# Features and outcome\n",
    "features = ['age', 'height', 'weight', 'candj', 'snatch', 'backsq']\n",
    "outcome = ['deadlift']\n",
    "\n",
    "df = df.dropna(subset=features + outcome)\n",
    "\n",
    "# Split into X and y\n",
    "X = df[features]\n",
    "y = df[outcome]\n",
    "\n",
    "# Train/test split\n",
    "X_train, X_test, y_train, y_test = train_test_split(X, y, test_size=0.2, random_state=42)\n",
    "\n",
    "# Train linear regression\n",
    "model = LinearRegression()\n",
    "model.fit(X_train, y_train)\n",
    "\n",
    "# Predict\n",
    "y_pred = model.predict(X_test)\n",
    "\n",
    "# Evaluate\n",
    "r2 = r2_score(y_test, y_pred)\n",
    "rmse = np.sqrt(mean_squared_error(y_test, y_pred))\n",
    "\n",
    "print(f\"R²: {r2:.3f}\")\n",
    "print(f\"RMSE: {rmse:.3f}\")"
   ]
  },
  {
   "cell_type": "markdown",
   "metadata": {},
   "source": [
    "V2 model is indeed worse. .83 r2 vs .97 r2"
   ]
  },
  {
   "cell_type": "markdown",
   "metadata": {},
   "source": [
    "## Use tensor flow privacy library with the dataset v2 and calculate the metrics for the new DP model."
   ]
  },
  {
   "cell_type": "code",
   "execution_count": null,
   "metadata": {},
   "outputs": [
    {
     "name": "stderr",
     "output_type": "stream",
     "text": [
      "2025-10-15 20:46:24.905071: I tensorflow/core/platform/cpu_feature_guard.cc:210] This TensorFlow binary is optimized to use available CPU instructions in performance-critical operations.\n",
      "To enable the following instructions: AVX2 AVX512F AVX512_VNNI FMA, in other operations, rebuild TensorFlow with the appropriate compiler flags.\n",
      "/opt/anaconda3/lib/python3.12/site-packages/keras/src/layers/core/dense.py:87: UserWarning: Do not pass an `input_shape`/`input_dim` argument to a layer. When using Sequential models, prefer using an `Input(shape)` object as the first layer in the model instead.\n",
      "  super().__init__(activity_regularizer=activity_regularizer, **kwargs)\n"
     ]
    },
    {
     "name": "stdout",
     "output_type": "stream",
     "text": [
      "\u001b[1m188/188\u001b[0m \u001b[32m━━━━━━━━━━━━━━━━━━━━\u001b[0m\u001b[37m\u001b[0m \u001b[1m1s\u001b[0m 5ms/step\n",
      "R²: -13.825\n",
      "RMSE: 374.101\n"
     ]
    }
   ],
   "source": [
    "import pandas as pd\n",
    "import numpy as np\n",
    "import tensorflow as tf\n",
    "from tensorflow_privacy.privacy.optimizers.dp_optimizer_keras import DPKerasSGDOptimizer\n",
    "from tensorflow_privacy.privacy.analysis import compute_dp_sgd_privacy\n",
    "from sklearn.model_selection import train_test_split\n",
    "from sklearn.preprocessing import StandardScaler\n",
    "from sklearn.metrics import r2_score, mean_squared_error\n",
    "\n",
    "# -----------------------------\n",
    "# Prepare data\n",
    "# -----------------------------\n",
    "features = ['age', 'height', 'weight', 'candj', 'snatch', 'backsq']\n",
    "outcome = ['deadlift']\n",
    "\n",
    "df = df.dropna(subset=features + outcome)\n",
    "\n",
    "X = df[features].astype(np.float32)\n",
    "y = df[outcome].astype(np.float32).values.reshape(-1, 1)\n",
    "\n",
    "# Train/test split\n",
    "X_train, X_test, y_train, y_test = train_test_split(\n",
    "    X, y, test_size=0.2, random_state=42\n",
    ")\n",
    "\n",
    "# Standardize features\n",
    "scaler = StandardScaler()\n",
    "X_train = scaler.fit_transform(X_train)\n",
    "X_test = scaler.transform(X_test)\n",
    "\n",
    "# -----------------------------\n",
    "# DP Linear Regression Model\n",
    "# -----------------------------\n",
    "model = tf.keras.Sequential([\n",
    "    tf.keras.layers.Input(shape=(X_train.shape[1],)),\n",
    "    tf.keras.layers.Dense(1)\n",
    "])\n",
    "\n",
    "# DP optimizer parameters\n",
    "learning_rate = 0.01\n",
    "noise_multiplier = 0.5   # adjust for privacy-accuracy tradeoff\n",
    "l2_norm_clip = 5.0\n",
    "batch_size = 32\n",
    "epochs = 100\n",
    "\n",
    "optimizer = DPKerasSGDOptimizer(\n",
    "    l2_norm_clip=l2_norm_clip,\n",
    "    noise_multiplier=noise_multiplier,\n",
    "    num_microbatches=batch_size,  # should match batch size\n",
    "    learning_rate=learning_rate\n",
    ")\n",
    "\n",
    "# Loss function (per-example)\n",
    "loss_fn = tf.keras.losses.MeanSquaredError(reduction=tf.keras.losses.Reduction.NONE)\n",
    "\n",
    "# -----------------------------\n",
    "# Custom DP training loop\n",
    "# -----------------------------\n",
    "dataset = tf.data.Dataset.from_tensor_slices((X_train, y_train))\n",
    "dataset = dataset.shuffle(buffer_size=len(X_train)).batch(batch_size)\n",
    "\n",
    "for epoch in range(epochs):\n",
    "    for x_batch, y_batch in dataset:\n",
    "        with tf.GradientTape() as tape:\n",
    "            predictions = model(x_batch, training=True)\n",
    "            per_example_loss = loss_fn(y_batch, predictions)\n",
    "            loss = tf.reduce_mean(per_example_loss)\n",
    "\n",
    "        # Compute DP gradients (do NOT pass gradient_clip_norm)\n",
    "        grads_and_vars = optimizer._compute_gradients(\n",
    "            loss,\n",
    "            var_list=model.trainable_variables,\n",
    "            tape=tape\n",
    "        )\n",
    "        optimizer.apply_gradients(grads_and_vars)\n",
    "\n",
    "    if (epoch + 1) % 10 == 0:\n",
    "        print(f\"Epoch {epoch+1}/{epochs} completed\")\n",
    "\n",
    "# -----------------------------\n",
    "# Evaluate on test set\n",
    "# -----------------------------\n",
    "y_pred = model(X_test).numpy()\n",
    "\n",
    "r2 = r2_score(y_test, y_pred)\n",
    "rmse = np.sqrt(mean_squared_error(y_test, y_pred))\n",
    "\n",
    "print(f\"DP Linear Regression R²: {r2:.3f}\")\n",
    "print(f\"DP Linear Regression RMSE: {rmse:.3f}\")\n",
    "\n",
    "# -----------------------------\n",
    "# Compute DP epsilon\n",
    "# -----------------------------\n",
    "N = X_train.shape[0]\n",
    "delta = 1e-5  # typical choice\n",
    "\n",
    "epsilon, _ = compute_dp_sgd_privacy.compute_dp_sgd_privacy(\n",
    "    n=N,\n",
    "    batch_size=batch_size,\n",
    "    noise_multiplier=noise_multiplier,\n",
    "    epochs=epochs,\n",
    "    delta=delta\n",
    ")\n",
    "\n",
    "\n",
    "# Evaluate\n",
    "r2 = r2_score(y_test, y_pred_dp)\n",
    "rmse = np.sqrt(mean_squared_error(y_test, y_pred_dp))\n",
    "\n",
    "print(f\"R²: {r2:.3f}\")\n",
    "print(f\"RMSE: {rmse:.3f}\")\n",
    "\n"
   ]
  },
  {
   "cell_type": "markdown",
   "metadata": {},
   "source": [
    "In the DP approach, the accuracy of the model has degraged to the point where it is not at all useful"
   ]
  },
  {
   "cell_type": "markdown",
   "metadata": {},
   "source": []
  }
 ],
 "metadata": {
  "kernelspec": {
   "display_name": "Python 3",
   "language": "python",
   "name": "python3"
  },
  "language_info": {
   "codemirror_mode": {
    "name": "ipython",
    "version": 3
   },
   "file_extension": ".py",
   "mimetype": "text/x-python",
   "name": "python",
   "nbconvert_exporter": "python",
   "pygments_lexer": "ipython3",
   "version": "3.10.9"
  }
 },
 "nbformat": 4,
 "nbformat_minor": 2
}
